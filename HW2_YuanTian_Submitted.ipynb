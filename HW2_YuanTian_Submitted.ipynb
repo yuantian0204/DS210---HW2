{
 "cells": [
  {
   "cell_type": "markdown",
   "id": "eb54e15c",
   "metadata": {},
   "source": [
    "## Question 1"
   ]
  },
  {
   "cell_type": "code",
   "execution_count": 157,
   "id": "bf3559d5",
   "metadata": {},
   "outputs": [
    {
     "data": {
      "text/plain": [
       "array([0.        , 0.02941176, 0.05882353, 0.08823529, 0.11764706,\n",
       "       0.14705882, 0.17647059, 0.20588235, 0.23529412, 0.26470588,\n",
       "       0.29411765, 0.32352941, 0.35294118, 0.38235294, 0.41176471,\n",
       "       0.44117647, 0.47058824, 0.5       , 0.52941176, 0.55882353,\n",
       "       0.58823529, 0.61764706, 0.64705882, 0.67647059, 0.70588235,\n",
       "       0.73529412, 0.76470588, 0.79411765, 0.82352941, 0.85294118,\n",
       "       0.88235294, 0.91176471, 0.94117647, 0.97058824, 1.        ])"
      ]
     },
     "execution_count": 157,
     "metadata": {},
     "output_type": "execute_result"
    }
   ],
   "source": [
    "import numpy as np\n",
    "#A\n",
    "A = np.linspace(0,1,35)\n",
    "A"
   ]
  },
  {
   "cell_type": "code",
   "execution_count": 158,
   "id": "42170719",
   "metadata": {},
   "outputs": [
    {
     "data": {
      "text/plain": [
       "array([0.61764706, 0.64705882, 0.67647059, 0.70588235, 0.73529412,\n",
       "       0.76470588, 0.79411765, 0.82352941, 0.85294118, 0.88235294,\n",
       "       0.91176471, 0.94117647, 0.97058824, 1.        ])"
      ]
     },
     "execution_count": 158,
     "metadata": {},
     "output_type": "execute_result"
    }
   ],
   "source": [
    "#B\n",
    "A[A >= 0.6]"
   ]
  },
  {
   "cell_type": "code",
   "execution_count": 159,
   "id": "aa0b2db4",
   "metadata": {},
   "outputs": [
    {
     "data": {
      "text/plain": [
       "array([0.00000000e+00, 8.65051903e-04, 3.46020761e-03, 7.78546713e-03,\n",
       "       1.38408304e-02, 2.16262976e-02, 3.11418685e-02, 4.23875433e-02,\n",
       "       5.53633218e-02, 7.00692042e-02, 8.65051903e-02, 1.04671280e-01,\n",
       "       1.24567474e-01, 1.46193772e-01, 1.69550173e-01, 1.94636678e-01,\n",
       "       2.21453287e-01, 2.50000000e-01, 2.80276817e-01, 3.12283737e-01,\n",
       "       3.46020761e-01, 3.81487889e-01, 4.18685121e-01, 4.57612457e-01,\n",
       "       4.98269896e-01, 5.40657439e-01, 5.84775087e-01, 6.30622837e-01,\n",
       "       6.78200692e-01, 7.27508651e-01, 7.78546713e-01, 8.31314879e-01,\n",
       "       8.85813149e-01, 9.42041522e-01, 1.00000000e+00])"
      ]
     },
     "execution_count": 159,
     "metadata": {},
     "output_type": "execute_result"
    }
   ],
   "source": [
    "#C\n",
    "A = np.square(A)\n",
    "A"
   ]
  },
  {
   "cell_type": "code",
   "execution_count": 160,
   "id": "7fb3ff5c",
   "metadata": {},
   "outputs": [
    {
     "data": {
      "text/plain": [
       "array([[0.00000000e+00, 8.65051903e-04, 3.46020761e-03, 7.78546713e-03,\n",
       "        1.38408304e-02, 2.16262976e-02, 3.11418685e-02],\n",
       "       [4.23875433e-02, 5.53633218e-02, 7.00692042e-02, 8.65051903e-02,\n",
       "        1.04671280e-01, 1.24567474e-01, 1.46193772e-01],\n",
       "       [1.69550173e-01, 1.94636678e-01, 2.21453287e-01, 2.50000000e-01,\n",
       "        2.80276817e-01, 3.12283737e-01, 3.46020761e-01],\n",
       "       [3.81487889e-01, 4.18685121e-01, 4.57612457e-01, 4.98269896e-01,\n",
       "        5.40657439e-01, 5.84775087e-01, 6.30622837e-01],\n",
       "       [6.78200692e-01, 7.27508651e-01, 7.78546713e-01, 8.31314879e-01,\n",
       "        8.85813149e-01, 9.42041522e-01, 1.00000000e+00]])"
      ]
     },
     "execution_count": 160,
     "metadata": {},
     "output_type": "execute_result"
    }
   ],
   "source": [
    "#D\n",
    "B = A.reshape(5,7)\n",
    "B"
   ]
  },
  {
   "cell_type": "code",
   "execution_count": 161,
   "id": "ffbb107b",
   "metadata": {},
   "outputs": [
    {
     "data": {
      "text/plain": [
       "array([0.00778547, 0.08650519, 0.25      , 0.4982699 , 0.83131488])"
      ]
     },
     "execution_count": 161,
     "metadata": {},
     "output_type": "execute_result"
    }
   ],
   "source": [
    "#E\n",
    "np.median(B, axis=1)"
   ]
  },
  {
   "cell_type": "code",
   "execution_count": 162,
   "id": "6cbdb94b",
   "metadata": {},
   "outputs": [
    {
     "data": {
      "text/plain": [
       "array([0.25432526, 0.27941176, 0.30622837, 0.33477509, 0.3650519 ,\n",
       "       0.39705882, 0.43079585])"
      ]
     },
     "execution_count": 162,
     "metadata": {},
     "output_type": "execute_result"
    }
   ],
   "source": [
    "#F\n",
    "np.mean(B, axis=0)"
   ]
  },
  {
   "cell_type": "code",
   "execution_count": 163,
   "id": "646e6dd9",
   "metadata": {},
   "outputs": [
    {
     "data": {
      "text/plain": [
       "array([[0.        , 0.        , 0.00346021, 0.00778547, 0.01384083,\n",
       "        0.0216263 , 0.03114187],\n",
       "       [0.04238754, 0.        , 0.0700692 , 0.08650519, 0.10467128,\n",
       "        0.12456747, 0.14619377],\n",
       "       [0.16955017, 0.        , 0.22145329, 0.25      , 0.28027682,\n",
       "        0.31228374, 0.34602076],\n",
       "       [0.38148789, 0.        , 0.45761246, 0.4982699 , 0.54065744,\n",
       "        0.58477509, 0.63062284],\n",
       "       [0.67820069, 0.        , 0.77854671, 0.83131488, 0.88581315,\n",
       "        0.94204152, 1.        ]])"
      ]
     },
     "execution_count": 163,
     "metadata": {},
     "output_type": "execute_result"
    }
   ],
   "source": [
    "#G\n",
    "B[:,1] = 0\n",
    "B"
   ]
  },
  {
   "cell_type": "code",
   "execution_count": 164,
   "id": "e87cbd0f",
   "metadata": {},
   "outputs": [
    {
     "data": {
      "text/plain": [
       "array([[0.        , 0.        , 0.00346021, 0.00778547, 0.01384083,\n",
       "        0.0216263 , 0.03114187],\n",
       "       [1.        , 1.        , 1.        , 1.        , 1.        ,\n",
       "        1.        , 1.        ],\n",
       "       [1.        , 1.        , 1.        , 1.        , 1.        ,\n",
       "        1.        , 1.        ],\n",
       "       [1.        , 1.        , 1.        , 1.        , 1.        ,\n",
       "        1.        , 1.        ],\n",
       "       [0.67820069, 0.        , 0.77854671, 0.83131488, 0.88581315,\n",
       "        0.94204152, 1.        ]])"
      ]
     },
     "execution_count": 164,
     "metadata": {},
     "output_type": "execute_result"
    }
   ],
   "source": [
    "#H\n",
    "B[1:4,:] = 1\n",
    "B"
   ]
  },
  {
   "cell_type": "markdown",
   "id": "72190a83",
   "metadata": {},
   "source": [
    "##### I\n",
    "This modified the original array A"
   ]
  },
  {
   "cell_type": "markdown",
   "id": "6b7711dc",
   "metadata": {},
   "source": [
    "##### J\n",
    "numpy.resize is a function that returns its argument with a modified shape, whereas the ndarray.resize method modifies the array itself."
   ]
  },
  {
   "cell_type": "markdown",
   "id": "f45c49e4",
   "metadata": {},
   "source": [
    "## Question 2"
   ]
  },
  {
   "cell_type": "code",
   "execution_count": 165,
   "id": "3f711d84",
   "metadata": {},
   "outputs": [
    {
     "data": {
      "text/html": [
       "<div>\n",
       "<style scoped>\n",
       "    .dataframe tbody tr th:only-of-type {\n",
       "        vertical-align: middle;\n",
       "    }\n",
       "\n",
       "    .dataframe tbody tr th {\n",
       "        vertical-align: top;\n",
       "    }\n",
       "\n",
       "    .dataframe thead th {\n",
       "        text-align: right;\n",
       "    }\n",
       "</style>\n",
       "<table border=\"1\" class=\"dataframe\">\n",
       "  <thead>\n",
       "    <tr style=\"text-align: right;\">\n",
       "      <th></th>\n",
       "      <th>school</th>\n",
       "      <th>sex</th>\n",
       "      <th>age</th>\n",
       "      <th>address</th>\n",
       "      <th>famsize</th>\n",
       "      <th>Pstatus</th>\n",
       "      <th>Medu</th>\n",
       "      <th>Fedu</th>\n",
       "      <th>Mjob</th>\n",
       "      <th>Fjob</th>\n",
       "      <th>...</th>\n",
       "      <th>famrel</th>\n",
       "      <th>freetime</th>\n",
       "      <th>goout</th>\n",
       "      <th>Dalc</th>\n",
       "      <th>Walc</th>\n",
       "      <th>health</th>\n",
       "      <th>absences</th>\n",
       "      <th>G1</th>\n",
       "      <th>G2</th>\n",
       "      <th>G3</th>\n",
       "    </tr>\n",
       "  </thead>\n",
       "  <tbody>\n",
       "    <tr>\n",
       "      <th>0</th>\n",
       "      <td>GP</td>\n",
       "      <td>F</td>\n",
       "      <td>18</td>\n",
       "      <td>U</td>\n",
       "      <td>GT3</td>\n",
       "      <td>A</td>\n",
       "      <td>4</td>\n",
       "      <td>4</td>\n",
       "      <td>at_home</td>\n",
       "      <td>teacher</td>\n",
       "      <td>...</td>\n",
       "      <td>4</td>\n",
       "      <td>3</td>\n",
       "      <td>4</td>\n",
       "      <td>1</td>\n",
       "      <td>1</td>\n",
       "      <td>3</td>\n",
       "      <td>6</td>\n",
       "      <td>5</td>\n",
       "      <td>6</td>\n",
       "      <td>6</td>\n",
       "    </tr>\n",
       "    <tr>\n",
       "      <th>1</th>\n",
       "      <td>GP</td>\n",
       "      <td>F</td>\n",
       "      <td>17</td>\n",
       "      <td>U</td>\n",
       "      <td>GT3</td>\n",
       "      <td>T</td>\n",
       "      <td>1</td>\n",
       "      <td>1</td>\n",
       "      <td>at_home</td>\n",
       "      <td>other</td>\n",
       "      <td>...</td>\n",
       "      <td>5</td>\n",
       "      <td>3</td>\n",
       "      <td>3</td>\n",
       "      <td>1</td>\n",
       "      <td>1</td>\n",
       "      <td>3</td>\n",
       "      <td>4</td>\n",
       "      <td>5</td>\n",
       "      <td>5</td>\n",
       "      <td>6</td>\n",
       "    </tr>\n",
       "    <tr>\n",
       "      <th>2</th>\n",
       "      <td>GP</td>\n",
       "      <td>F</td>\n",
       "      <td>15</td>\n",
       "      <td>U</td>\n",
       "      <td>LE3</td>\n",
       "      <td>T</td>\n",
       "      <td>1</td>\n",
       "      <td>1</td>\n",
       "      <td>at_home</td>\n",
       "      <td>other</td>\n",
       "      <td>...</td>\n",
       "      <td>4</td>\n",
       "      <td>3</td>\n",
       "      <td>2</td>\n",
       "      <td>2</td>\n",
       "      <td>3</td>\n",
       "      <td>3</td>\n",
       "      <td>10</td>\n",
       "      <td>7</td>\n",
       "      <td>8</td>\n",
       "      <td>10</td>\n",
       "    </tr>\n",
       "    <tr>\n",
       "      <th>3</th>\n",
       "      <td>GP</td>\n",
       "      <td>F</td>\n",
       "      <td>15</td>\n",
       "      <td>U</td>\n",
       "      <td>GT3</td>\n",
       "      <td>T</td>\n",
       "      <td>4</td>\n",
       "      <td>2</td>\n",
       "      <td>health</td>\n",
       "      <td>services</td>\n",
       "      <td>...</td>\n",
       "      <td>3</td>\n",
       "      <td>2</td>\n",
       "      <td>2</td>\n",
       "      <td>1</td>\n",
       "      <td>1</td>\n",
       "      <td>5</td>\n",
       "      <td>2</td>\n",
       "      <td>15</td>\n",
       "      <td>14</td>\n",
       "      <td>15</td>\n",
       "    </tr>\n",
       "    <tr>\n",
       "      <th>4</th>\n",
       "      <td>GP</td>\n",
       "      <td>F</td>\n",
       "      <td>16</td>\n",
       "      <td>U</td>\n",
       "      <td>GT3</td>\n",
       "      <td>T</td>\n",
       "      <td>3</td>\n",
       "      <td>3</td>\n",
       "      <td>other</td>\n",
       "      <td>other</td>\n",
       "      <td>...</td>\n",
       "      <td>4</td>\n",
       "      <td>3</td>\n",
       "      <td>2</td>\n",
       "      <td>1</td>\n",
       "      <td>2</td>\n",
       "      <td>5</td>\n",
       "      <td>4</td>\n",
       "      <td>6</td>\n",
       "      <td>10</td>\n",
       "      <td>10</td>\n",
       "    </tr>\n",
       "    <tr>\n",
       "      <th>...</th>\n",
       "      <td>...</td>\n",
       "      <td>...</td>\n",
       "      <td>...</td>\n",
       "      <td>...</td>\n",
       "      <td>...</td>\n",
       "      <td>...</td>\n",
       "      <td>...</td>\n",
       "      <td>...</td>\n",
       "      <td>...</td>\n",
       "      <td>...</td>\n",
       "      <td>...</td>\n",
       "      <td>...</td>\n",
       "      <td>...</td>\n",
       "      <td>...</td>\n",
       "      <td>...</td>\n",
       "      <td>...</td>\n",
       "      <td>...</td>\n",
       "      <td>...</td>\n",
       "      <td>...</td>\n",
       "      <td>...</td>\n",
       "      <td>...</td>\n",
       "    </tr>\n",
       "    <tr>\n",
       "      <th>390</th>\n",
       "      <td>MS</td>\n",
       "      <td>M</td>\n",
       "      <td>20</td>\n",
       "      <td>U</td>\n",
       "      <td>LE3</td>\n",
       "      <td>A</td>\n",
       "      <td>2</td>\n",
       "      <td>2</td>\n",
       "      <td>services</td>\n",
       "      <td>services</td>\n",
       "      <td>...</td>\n",
       "      <td>5</td>\n",
       "      <td>5</td>\n",
       "      <td>4</td>\n",
       "      <td>4</td>\n",
       "      <td>5</td>\n",
       "      <td>4</td>\n",
       "      <td>11</td>\n",
       "      <td>9</td>\n",
       "      <td>9</td>\n",
       "      <td>9</td>\n",
       "    </tr>\n",
       "    <tr>\n",
       "      <th>391</th>\n",
       "      <td>MS</td>\n",
       "      <td>M</td>\n",
       "      <td>17</td>\n",
       "      <td>U</td>\n",
       "      <td>LE3</td>\n",
       "      <td>T</td>\n",
       "      <td>3</td>\n",
       "      <td>1</td>\n",
       "      <td>services</td>\n",
       "      <td>services</td>\n",
       "      <td>...</td>\n",
       "      <td>2</td>\n",
       "      <td>4</td>\n",
       "      <td>5</td>\n",
       "      <td>3</td>\n",
       "      <td>4</td>\n",
       "      <td>2</td>\n",
       "      <td>3</td>\n",
       "      <td>14</td>\n",
       "      <td>16</td>\n",
       "      <td>16</td>\n",
       "    </tr>\n",
       "    <tr>\n",
       "      <th>392</th>\n",
       "      <td>MS</td>\n",
       "      <td>M</td>\n",
       "      <td>21</td>\n",
       "      <td>R</td>\n",
       "      <td>GT3</td>\n",
       "      <td>T</td>\n",
       "      <td>1</td>\n",
       "      <td>1</td>\n",
       "      <td>other</td>\n",
       "      <td>other</td>\n",
       "      <td>...</td>\n",
       "      <td>5</td>\n",
       "      <td>5</td>\n",
       "      <td>3</td>\n",
       "      <td>3</td>\n",
       "      <td>3</td>\n",
       "      <td>3</td>\n",
       "      <td>3</td>\n",
       "      <td>10</td>\n",
       "      <td>8</td>\n",
       "      <td>7</td>\n",
       "    </tr>\n",
       "    <tr>\n",
       "      <th>393</th>\n",
       "      <td>MS</td>\n",
       "      <td>M</td>\n",
       "      <td>18</td>\n",
       "      <td>R</td>\n",
       "      <td>LE3</td>\n",
       "      <td>T</td>\n",
       "      <td>3</td>\n",
       "      <td>2</td>\n",
       "      <td>services</td>\n",
       "      <td>other</td>\n",
       "      <td>...</td>\n",
       "      <td>4</td>\n",
       "      <td>4</td>\n",
       "      <td>1</td>\n",
       "      <td>3</td>\n",
       "      <td>4</td>\n",
       "      <td>5</td>\n",
       "      <td>0</td>\n",
       "      <td>11</td>\n",
       "      <td>12</td>\n",
       "      <td>10</td>\n",
       "    </tr>\n",
       "    <tr>\n",
       "      <th>394</th>\n",
       "      <td>MS</td>\n",
       "      <td>M</td>\n",
       "      <td>19</td>\n",
       "      <td>U</td>\n",
       "      <td>LE3</td>\n",
       "      <td>T</td>\n",
       "      <td>1</td>\n",
       "      <td>1</td>\n",
       "      <td>other</td>\n",
       "      <td>at_home</td>\n",
       "      <td>...</td>\n",
       "      <td>3</td>\n",
       "      <td>2</td>\n",
       "      <td>3</td>\n",
       "      <td>3</td>\n",
       "      <td>3</td>\n",
       "      <td>5</td>\n",
       "      <td>5</td>\n",
       "      <td>8</td>\n",
       "      <td>9</td>\n",
       "      <td>9</td>\n",
       "    </tr>\n",
       "  </tbody>\n",
       "</table>\n",
       "<p>395 rows × 33 columns</p>\n",
       "</div>"
      ],
      "text/plain": [
       "    school sex  age address famsize Pstatus  Medu  Fedu      Mjob      Fjob  \\\n",
       "0       GP   F   18       U     GT3       A     4     4   at_home   teacher   \n",
       "1       GP   F   17       U     GT3       T     1     1   at_home     other   \n",
       "2       GP   F   15       U     LE3       T     1     1   at_home     other   \n",
       "3       GP   F   15       U     GT3       T     4     2    health  services   \n",
       "4       GP   F   16       U     GT3       T     3     3     other     other   \n",
       "..     ...  ..  ...     ...     ...     ...   ...   ...       ...       ...   \n",
       "390     MS   M   20       U     LE3       A     2     2  services  services   \n",
       "391     MS   M   17       U     LE3       T     3     1  services  services   \n",
       "392     MS   M   21       R     GT3       T     1     1     other     other   \n",
       "393     MS   M   18       R     LE3       T     3     2  services     other   \n",
       "394     MS   M   19       U     LE3       T     1     1     other   at_home   \n",
       "\n",
       "     ... famrel freetime  goout  Dalc  Walc health absences  G1  G2  G3  \n",
       "0    ...      4        3      4     1     1      3        6   5   6   6  \n",
       "1    ...      5        3      3     1     1      3        4   5   5   6  \n",
       "2    ...      4        3      2     2     3      3       10   7   8  10  \n",
       "3    ...      3        2      2     1     1      5        2  15  14  15  \n",
       "4    ...      4        3      2     1     2      5        4   6  10  10  \n",
       "..   ...    ...      ...    ...   ...   ...    ...      ...  ..  ..  ..  \n",
       "390  ...      5        5      4     4     5      4       11   9   9   9  \n",
       "391  ...      2        4      5     3     4      2        3  14  16  16  \n",
       "392  ...      5        5      3     3     3      3        3  10   8   7  \n",
       "393  ...      4        4      1     3     4      5        0  11  12  10  \n",
       "394  ...      3        2      3     3     3      5        5   8   9   9  \n",
       "\n",
       "[395 rows x 33 columns]"
      ]
     },
     "execution_count": 165,
     "metadata": {},
     "output_type": "execute_result"
    }
   ],
   "source": [
    "#Start up and read in data\n",
    "import pandas as pd\n",
    "import numpy as np\n",
    "data = pd.read_csv('student-mat.csv', sep=\";\")\n",
    "data"
   ]
  },
  {
   "cell_type": "code",
   "execution_count": 166,
   "id": "30aa63c2",
   "metadata": {},
   "outputs": [
    {
     "name": "stdout",
     "output_type": "stream",
     "text": [
      "Medu         1.002538\n",
      "Fedu         1.002538\n",
      "studytime    1.002538\n",
      "health       1.002538\n",
      "goout        1.002538\n",
      "absences     1.002538\n",
      "dtype: float64\n"
     ]
    }
   ],
   "source": [
    "#selecting attributes, and scaling\n",
    "from sklearn.preprocessing import StandardScaler\n",
    "selected_X = data[['Medu', 'Fedu', 'studytime', 'health', 'goout', 'absences']] #Select the six attributes I think\\\n",
    "#will be useful to predict\n",
    "scaler = StandardScaler()\n",
    "scaled = scaler.fit_transform(selected_X) #Scale the data so each has column has the same weight(variance is 1)\n",
    "scaled_X = pd.DataFrame(scaled, columns=selected_X.columns)#create a new scaled Dataframe\n",
    "print(scaled_X.var()) #make sure the variance are the same and close to 1\n",
    "y = data['G3'] #State the target as y\n",
    "#Note: I didn't clean or validate the data because from HW1 i know the part I will use is already clean"
   ]
  },
  {
   "cell_type": "code",
   "execution_count": 167,
   "id": "bb2805c6",
   "metadata": {},
   "outputs": [],
   "source": [
    "#spliting data\n",
    "from sklearn.model_selection import train_test_split\n",
    "X_train, X_test, y_train, y_test = train_test_split(scaled_X, y, test_size=0.2, random_state = 35) \n",
    "#Split into training and testing"
   ]
  },
  {
   "cell_type": "code",
   "execution_count": 168,
   "id": "c554a951",
   "metadata": {},
   "outputs": [],
   "source": [
    "#Training and testing\n",
    "from scipy.cluster.vq import kmeans, vq\n",
    "from sklearn.metrics import mean_squared_error\n",
    "arr = X_train.values #an array of all X_train to use in Kmeans cluster\n",
    "arr_test = X_test.values#an array of all X_test to use in Kmeans cluster\n",
    "result = [] #a list to store the msr result\n",
    "for k in range(1,21,1): #A for loop for different value of K\n",
    "    centroids,_ = kmeans(arr,k) #Use the Kmeans model to cluster\n",
    "    X_train['Cluster'],_ = vq(arr, centroids) #add the cluster number as a new column to X_train\n",
    "    X_and_y = X_train.merge(y_train, left_index=True, right_index=True) #Create a new dataframe with the y_train\n",
    "    means = X_and_y.groupby(['Cluster'])['G3'].mean() #calculate the means of all y_train(G3) when it belongs\\\n",
    "    #to the same cluster \n",
    "    X_test['Cluster'], _ = vq(arr_test, centroids) #assign and label each test data to an existing cluster, \\\n",
    "    #and add that cluster number with a new column\n",
    "    means_prediction = np.array([]) #create an array to store the prediction of X_test\n",
    "    for cluster in X_test['Cluster']:#iterate over each test data\n",
    "        means_prediction = np.append(means_prediction, means[cluster])#attach the mean of each cluster\\\n",
    "        #based on the test value's assgined cluster, as the prediction\n",
    "    msr = mean_squared_error(y_test, means_prediction) #calculate the msr with y_test and the prediction result\n",
    "    result.append(msr) #append the msr value to the list for plotting"
   ]
  },
  {
   "cell_type": "code",
   "execution_count": 169,
   "id": "260e39a2",
   "metadata": {},
   "outputs": [
    {
     "data": {
      "text/plain": [
       "Text(0.5, 1.0, 'Comparison between different Ks')"
      ]
     },
     "execution_count": 169,
     "metadata": {},
     "output_type": "execute_result"
    },
    {
     "data": {
      "image/png": "[encoded data removed]",
      "text/plain": [
       "<Figure size 700x700 with 1 Axes>"
      ]
     },
     "metadata": {},
     "output_type": "display_data"
    }
   ],
   "source": [
    "#Plot\n",
    "import matplotlib.pyplot as plt\n",
    "fig, ax = plt.subplots(1,1,figsize=(7,7))\n",
    "ax.plot(range(1,21,1), result)\n",
    "ax.set_xlabel('K')\n",
    "ax.set_ylabel('mean squared error')\n",
    "ax.set_title(\"Comparison between different Ks\")\n",
    "#plot the result to show the relationship between K value and MSR"
   ]
  },
  {
   "cell_type": "markdown",
   "id": "f566ec29",
   "metadata": {},
   "source": [
    "### Summary\n",
    "The accuracy from this time is msr roughly bewteen 18 to 21, and the msr for HW1 is between 22 to 30. We could say generally this time prediction is more accurate compared to the last one. \n",
    "The result is quite suprising to me because I expected the trend to be MSR decresing as K increasing. Instead, the result of the plot shows that MSR fluctuates and keep going up and down while K increase. I think the result may depend on the attributes I choose. I also notice a slight trend of MSR going up while K increases, I think this maybe because when you ask for too many clusters, more than an \"appropriate\" division of all the data, similar data could be assigned into different clusters to cause inaccurate clustering. "
   ]
  }
 ],
 "metadata": {
  "kernelspec": {
   "display_name": "Python 3 (ipykernel)",
   "language": "python",
   "name": "python3"
  },
  "language_info": {
   "codemirror_mode": {
    "name": "ipython",
    "version": 3
   },
   "file_extension": ".py",
   "mimetype": "text/x-python",
   "name": "python",
   "nbconvert_exporter": "python",
   "pygments_lexer": "ipython3",
   "version": "3.11.4"
  }
 },
 "nbformat": 4,
 "nbformat_minor": 5
}
